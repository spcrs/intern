{
 "cells": [
  {
   "cell_type": "code",
   "execution_count": 2,
   "metadata": {},
   "outputs": [],
   "source": [
    "from sklearn.model_selection import KFold\n",
    "import pandas as pd"
   ]
  },
  {
   "cell_type": "code",
   "execution_count": 21,
   "metadata": {},
   "outputs": [
    {
     "data": {
      "text/plain": [
       "array([[1, 1, 1, 1, 1, 1],\n",
       "       [2, 2, 2, 2, 2, 2],\n",
       "       [3, 3, 3, 3, 3, 3],\n",
       "       [4, 4, 4, 4, 4, 4]], dtype=int64)"
      ]
     },
     "execution_count": 21,
     "metadata": {},
     "output_type": "execute_result"
    }
   ],
   "source": [
    "df = pd.DataFrame({1:[1,2,3,4],2:[1,2,3,4],3:[1,2,3,4],4:[1,2,3,4],5:[1,2,3,4],6:[1,2,3,4]})\n",
    "df.values"
   ]
  },
  {
   "cell_type": "code",
   "execution_count": 19,
   "metadata": {},
   "outputs": [
    {
     "data": {
      "text/plain": [
       "<generator object _BaseKFold.split at 0x0000020F22F2C970>"
      ]
     },
     "execution_count": 19,
     "metadata": {},
     "output_type": "execute_result"
    }
   ],
   "source": [
    "kf = KFold(2,shuffle=True)  #check with stratified k fold   \n",
    "kf.split(df)"
   ]
  },
  {
   "cell_type": "code",
   "execution_count": 20,
   "metadata": {},
   "outputs": [
    {
     "name": "stdout",
     "output_type": "stream",
     "text": [
      "fold  0\n",
      "train_index  [1 2]\n",
      "test_index  [0 3]\n",
      "fold  1\n",
      "train_index  [0 3]\n",
      "test_index  [1 2]\n"
     ]
    }
   ],
   "source": [
    "for fold, (train_index, test_index) in enumerate(kf.split(df)):\n",
    "    print(\"fold \",fold)\n",
    "    print(\"train_index \",train_index)\n",
    "    print(\"test_index \",test_index)\n"
   ]
  },
  {
   "cell_type": "code",
   "execution_count": 22,
   "metadata": {},
   "outputs": [
    {
     "name": "stdout",
     "output_type": "stream",
     "text": [
      "fold  0\n",
      "train_index  135\n",
      "test_index  15\n",
      "fold  1\n",
      "train_index  135\n",
      "test_index  15\n",
      "fold  2\n",
      "train_index  135\n",
      "test_index  15\n",
      "fold  3\n",
      "train_index  135\n",
      "test_index  15\n",
      "fold  4\n",
      "train_index  135\n",
      "test_index  15\n",
      "fold  5\n",
      "train_index  135\n",
      "test_index  15\n",
      "fold  6\n",
      "train_index  135\n",
      "test_index  15\n",
      "fold  7\n",
      "train_index  135\n",
      "test_index  15\n",
      "fold  8\n",
      "train_index  135\n",
      "test_index  15\n",
      "fold  9\n",
      "train_index  135\n",
      "test_index  15\n"
     ]
    }
   ],
   "source": [
    "input_data = pd.read_csv('dwt_data/train_input.csv')\n",
    "kf = KFold(n_splits=10,shuffle=True)  #check with stratified k fold   \n",
    "for fold, (train_index, test_index) in enumerate(kf.split(input_data)):\n",
    "    print(\"fold \",fold)\n",
    "    print(\"train_index \",len(train_index))\n",
    "    print(\"test_index \",len(test_index))"
   ]
  },
  {
   "cell_type": "code",
   "execution_count": null,
   "metadata": {},
   "outputs": [],
   "source": []
  }
 ],
 "metadata": {
  "kernelspec": {
   "display_name": "Python 3",
   "language": "python",
   "name": "python3"
  },
  "language_info": {
   "codemirror_mode": {
    "name": "ipython",
    "version": 3
   },
   "file_extension": ".py",
   "mimetype": "text/x-python",
   "name": "python",
   "nbconvert_exporter": "python",
   "pygments_lexer": "ipython3",
   "version": "3.9.12"
  },
  "orig_nbformat": 4
 },
 "nbformat": 4,
 "nbformat_minor": 2
}
